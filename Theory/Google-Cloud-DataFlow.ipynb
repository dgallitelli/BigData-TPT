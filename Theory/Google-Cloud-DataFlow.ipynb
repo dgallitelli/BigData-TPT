{
 "cells": [
  {
   "cell_type": "markdown",
   "metadata": {},
   "source": [
    "# Google Cloud DataFlow\n",
    "\n",
    "Google Cloud DataFlow represents the replacement for MapReduce by Google. It is based on *FlumeJava* and *MillWheel*, a stream engine as Storm, Samza; it writes and reads to Google Pub/Sub, just like Kafka.\n",
    "\n",
    "It consists of a **set of SDKs** used to define data processing jobs, among which *PCollection* (specialized collection class to represent pipeline data), *PTransform* (powerful data transforms, generic framework that apply functions across an entire data set), *I/O APIs* (pipeline r&w data to and from a variety of formats and storage technologies). \n",
    "\n",
    "Moreover, it exploits the **Google Cloud Platform managed services**, like *Google Compute Engine VMs* (to provide job workers), *Google Cloud Storage* and *Google BigQuery* (for reading & writing data). These service allow for: \n",
    "\n",
    "- **dynamic optimization** of the job graph for most efficient execution;\n",
    "- **resource management** as in turn on/off automatically Compute Engine VMs, according to requests, collection of logs and communication with Cloud Storage technologies;\n",
    "- **job monitoring**, showing the different stages of the data processing pipeline;\n",
    "- **native I/O adapters for Cloud Storage Technologies**, such as Cloud Storage and BigQuery\n",
    "\n",
    "![cloud_dataflow_arch](../images/cloud_dataflow_arch.png)"
   ]
  },
  {
   "cell_type": "markdown",
   "metadata": {},
   "source": [
    "# Apache Beam\n",
    "\n",
    "Apache Beam is an advanced unidied programming model. It allows for implementation of batch and streaming data processing jobs that run on any execution engine:\n",
    "- Google Cloud Dataflow\n",
    "- Apache Flink\n",
    "- Apache Spark\n",
    "\n",
    "Both Java and Python are supported."
   ]
  }
 ],
 "metadata": {
  "kernelspec": {
   "display_name": "Python 3",
   "language": "python",
   "name": "python3"
  },
  "language_info": {
   "codemirror_mode": {
    "name": "ipython",
    "version": 3
   },
   "file_extension": ".py",
   "mimetype": "text/x-python",
   "name": "python",
   "nbconvert_exporter": "python",
   "pygments_lexer": "ipython3",
   "version": "3.6.2"
  }
 },
 "nbformat": 4,
 "nbformat_minor": 2
}
